{
 "cells": [
  {
   "cell_type": "markdown",
   "id": "8c2f8f61",
   "metadata": {},
   "source": [
    "# Scenarios to run SBI library on"
   ]
  },
  {
   "cell_type": "markdown",
   "id": "374af62b",
   "metadata": {},
   "source": [
    "***Note*** matplotlib is required for visualizing results in part 4\n",
    "***Note*** before proceeding replace database and pdb files with ones that match locations on your system"
   ]
  },
  {
   "cell_type": "code",
   "execution_count": 1,
   "id": "fc6fb8aa",
   "metadata": {},
   "outputs": [],
   "source": [
    "from SBI.external.blast import BlastExe\n",
    "from SBI.structure import PDB \n",
    "from SBI.databases import PDBlink\n",
    "from SBI.structure import Complex\n",
    "import re\n",
    "import math"
   ]
  },
  {
   "cell_type": "markdown",
   "id": "bf83bfcb",
   "metadata": {},
   "source": [
    "## 1) Blast and print alignment in pir format for modeller"
   ]
  },
  {
   "cell_type": "code",
   "execution_count": 3,
   "id": "8daca5b5",
   "metadata": {
    "scrolled": false
   },
   "outputs": [
    {
     "name": "stdout",
     "output_type": "stream",
     "text": [
      ">P1;1A3Q_A\n",
      "sequence:1A3Q_A:1:.:285:.:.:.:.:.\n",
      "GPYLVIVEQPKQRGFRFRYGCEGPSHGGLPGASSEKGRKTYPTVKICNYEGPAKIEVDLV\n",
      "THSDPPRAHAHSLVGKQCSELGICAVSVGPKDMTAQFNNLGVLHVTKKNMMGTMIQKLQR\n",
      "QRLRSRPQG-------------------LTEAEQRELEQEAKELKKVMDLSIVRLRFSAF\n",
      "L------RSLPLKPVISQPIHDSKSPGASNLKISRMDKTAGSVRGGDEVYLLCDKVQKDD\n",
      "IEVRFYEDDENG--WQAFGDFSPTDVHKQYAIVFRTPPYHKMKIERPVTVFLQLKRKRGG\n",
      "DVSDSKQFTYYP*\n",
      ">P1;1LE5\n",
      "structureX:1LE5:2:F:312:F:.:.:.:.\n",
      "GPYLQILEQPKQRGFRFRYVCEGPSHGGLPGASSEKNKKSYPQVKICNYVGPAKVIVQLV\n",
      "TNGKNIHLHAHSLVGKHC-EDGVCTVTAGPKDMVVGFANLGILHVTKKKVFETLEARMTE\n",
      "ACIRGYNPGLLVHSDLAYLQAEGGGDRQLTDREKEIIRQAAVQQTKEMDLSVVRLMFTAF\n",
      "LPDSTGSFTRRLEPVVSDAIYDSKAPNASNLKIVRMDRTAGCVTGGEEIYLLCDKVQKDD\n",
      "IQIRFYEEEENGGVWEGFGDFSPTDVHRQFAIVFKTPKYKDVNITKPASVFVQLRRKSDL\n",
      "ETSEPKPFLYYP*\n"
     ]
    }
   ],
   "source": [
    "protein = PDB(\"pdb1a3q.ent.gz\")\n",
    "blast = BlastExe(database = \"/home/pgohl/Work/pgohl/ModCRE/scripts/databases/sequences.fa\")\n",
    "ChainA = protein.get_chain_by_id(\"A\")\n",
    "sequence = ChainA.protein_sequence\n",
    "blastresults = blast.execute_query_seq(sequenceID = \"1A3Q_A\", sequence = sequence)\n",
    "##### The alignment that we want to match\n",
    "PIR = blastresults.str_PIR(result=2)\n",
    "print(PIR)"
   ]
  },
  {
   "cell_type": "markdown",
   "id": "f1dfdfa7",
   "metadata": {},
   "source": [
    "## 2) Change the residue numbering of a protein to match that of an alignment."
   ]
  },
  {
   "cell_type": "code",
   "execution_count": 4,
   "id": "5a20cd4b",
   "metadata": {},
   "outputs": [],
   "source": [
    "PIRlist = PIR.split(\">P1;\")\n",
    "p1a3q = \"\".join(PIRlist[1].split(\"\\n\")[2:])\n",
    "blasthit = \"\".join(PIRlist[2].split(\"\\n\")[2:])\n",
    "hit_ID = \"\".join(PIRlist[2].split(\"\\n\")[0])\n",
    "new = PDBlink()\n",
    "path = new.get_PDB(hit_ID)\n",
    "proteinmatch = PDB(path)\n",
    "MatchChainStart = PIRlist[2].split(\":\")[2]\n",
    "index = int(MatchChainStart) - 1\n",
    "for x in range(0 , len(ChainA.aminoacids)):\n",
    "\twhile p1a3q[index] == \"-\" :\n",
    "\t\tindex = index + 1\n",
    "\tChainA.aminoacids[x].number = index + 1\n",
    "\tindex = index + 1"
   ]
  },
  {
   "cell_type": "markdown",
   "id": "320ca0f1",
   "metadata": {},
   "source": [
    "## 3) Calculate a proteins loops in a chain"
   ]
  },
  {
   "cell_type": "code",
   "execution_count": 5,
   "id": "03623ff7",
   "metadata": {},
   "outputs": [
    {
     "name": "stdout",
     "output_type": "stream",
     "text": [
      "('1A3Q_A.47.pdb', '1A3Q_A.47.dssp')\n"
     ]
    },
    {
     "name": "stderr",
     "output_type": "stream",
     "text": [
      "truncated chain!1A3Q_A.47.dssp\n"
     ]
    },
    {
     "name": "stdout",
     "output_type": "stream",
     "text": [
      "('1LE5_B.6.pdb', '1LE5_B.6.dssp')\n",
      "\n",
      "1A3Q_A_221\tBK\t5\t009.982\t140.219\t161.534\t123.887\t0\n",
      "1LE5_B_257\tBK\t5\t010.085\t142.720\t168.878\t122.014\t0\n",
      "\n",
      "('1LE5_F.78.pdb', '1LE5_F.78.dssp')\n",
      "\n",
      "1A3Q_A_221\tBK\t5\t009.982\t140.219\t161.534\t123.887\t0\n",
      "1LE5_F_257\tBK\t5\t010.083\t142.767\t169.466\t122.070\t0\n",
      "\n",
      "\n",
      "1A3Q_A_264\tGE\t0\t002.858\t077.184\t138.966\t086.786\t0\n",
      "1LE5_F_300\tGE\t0\t003.037\t074.437\t129.056\t082.366\t0\n",
      "\n",
      "\n",
      "1A3Q_A_267\tBN\t3\t004.681\t162.018\t346.400\t098.084\t0\n",
      "1LE5_F_303\tBN\t3\t004.528\t162.968\t354.902\t099.187\t0\n",
      "\n",
      "('1LE5_A.73.pdb', '1LE5_A.73.dssp')\n",
      "\n",
      "1A3Q_A_264\tGE\t0\t002.858\t077.184\t138.966\t086.786\t0\n",
      "1LE5_A_241\tGE\t0\t003.067\t075.588\t134.834\t085.114\t0\n",
      "\n",
      "\n",
      "1A3Q_A_267\tBN\t3\t004.681\t162.018\t346.400\t098.084\t0\n",
      "1LE5_A_244\tBN\t3\t004.722\t163.636\t348.472\t100.986\t0\n",
      "\n",
      "('1LE5_E.33.pdb', '1LE5_E.33.dssp')\n",
      "\n",
      "1A3Q_A_196\tBK\t3\t011.878\t046.013\t071.042\t020.982\t0\n",
      "1LE5_E_172\tBK\t3\t012.134\t041.016\t080.811\t022.251\t0\n",
      "\n"
     ]
    }
   ],
   "source": [
    "ChainA.calculate_dssp()\n",
    "ChainA.calculate_archs()\n",
    "ChainA.archs\n",
    "ChainA.superarchs\n",
    "for chain in proteinmatch.chain_identifiers:\n",
    "\tChainB = proteinmatch.get_chain_by_id(chain)\n",
    "\tif str(type(ChainB)) != \"<class 'SBI.structure.chain.ChainOfProtein.ChainOfProtein'>\":\n",
    "\t\tcontinue\n",
    "\tChainB.calculate_dssp()\n",
    "\tChainB.calculate_archs()\n",
    "\t##### Here I will compare loops between ChainA and ChainB using FragRus´s most conservative thresholds\n",
    "\tfor loop in ChainA.archs:\n",
    "\t\tfor x in ChainB.archs:\n",
    "\t\t\tRho = math.sqrt((loop.rho - x.rho)**2) <= 10 \n",
    "\t\t\tDelta = math.sqrt((loop.delta - x.delta)**2) <= 5\n",
    "\t\t\tTheta = math.sqrt((loop.theta - x.theta)**2) <= 5\n",
    "\t\t\tDistance = math.sqrt((loop.cartesian_distance - x.cartesian_distance)**2) <= 0.5 \n",
    "\t\t\tif Distance and Rho and Delta and Theta:\n",
    "\t\t\t\tprint(\"\\n{0}\\n{1}\\n\".format(loop.line_format(),x.line_format()))"
   ]
  },
  {
   "cell_type": "markdown",
   "id": "709d3f3a",
   "metadata": {},
   "source": [
    "## 4) Getting the loop geometry values of all 1A3Q_A_19 BLAST hits\n",
    "\n",
    "#### This loop is a beta-link "
   ]
  },
  {
   "cell_type": "code",
   "execution_count": 6,
   "id": "87e19161",
   "metadata": {},
   "outputs": [
    {
     "name": "stdout",
     "output_type": "stream",
     "text": [
      "('3DO7_B.20.pdb', '3DO7_B.20.dssp')\n",
      "('1A3Q_B.48.pdb', '1A3Q_B.48.dssp')\n"
     ]
    },
    {
     "name": "stderr",
     "output_type": "stream",
     "text": [
      "truncated chain!1A3Q_B.48.dssp\n"
     ]
    },
    {
     "name": "stdout",
     "output_type": "stream",
     "text": [
      "('1A3Q_A.21.pdb', '1A3Q_A.21.dssp')\n"
     ]
    },
    {
     "name": "stderr",
     "output_type": "stream",
     "text": [
      "truncated chain!1A3Q_A.21.dssp\n"
     ]
    },
    {
     "name": "stdout",
     "output_type": "stream",
     "text": [
      "('2V2T_B.69.pdb', '2V2T_B.69.dssp')\n",
      "('1LE5_F.75.pdb', '1LE5_F.75.dssp')\n",
      "('1LE5_B.77.pdb', '1LE5_B.77.dssp')\n",
      "('3GUT_H.31.pdb', '3GUT_H.31.dssp')\n",
      "('3GUT_F.56.pdb', '3GUT_F.56.dssp')\n",
      "('3GUT_D.23.pdb', '3GUT_D.23.dssp')\n",
      "('3GUT_B.44.pdb', '3GUT_B.44.dssp')\n",
      "('1VKX_B.72.pdb', '1VKX_B.72.dssp')\n",
      "('2I9T_B.32.pdb', '2I9T_B.32.dssp')\n",
      "('1NFK_B.1.pdb', '1NFK_B.1.dssp')\n",
      "('1NFK_A.1.pdb', '1NFK_A.1.dssp')\n",
      "('1LEI_B.14.pdb', '1LEI_B.14.dssp')\n",
      "('1LE9_F.68.pdb', '1LE9_F.68.dssp')\n",
      "('1LE9_B.77.pdb', '1LE9_B.77.dssp')\n",
      "('1OOA_B.39.pdb', '1OOA_B.39.dssp')\n",
      "('1OOA_A.83.pdb', '1OOA_A.83.dssp')\n",
      "('2O61_B.54.pdb', '2O61_B.54.dssp')\n",
      "('1SVC_P.46.pdb', '1SVC_P.46.dssp')\n",
      "('1GJI_B.9.pdb', '1GJI_B.9.dssp')\n",
      "('1GJI_A.59.pdb', '1GJI_A.59.dssp')\n",
      "('2O61_A.38.pdb', '2O61_A.38.dssp')\n"
     ]
    },
    {
     "name": "stderr",
     "output_type": "stream",
     "text": [
      "truncated chain!2O61_A.38.dssp\n",
      "truncated chain!2O61_A.38.dssp\n",
      "truncated chain!2O61_A.38.dssp\n"
     ]
    },
    {
     "name": "stdout",
     "output_type": "stream",
     "text": [
      "('1LE5_E.29.pdb', '1LE5_E.29.dssp')\n",
      "('1LE5_A.78.pdb', '1LE5_A.78.dssp')\n",
      "('1IKN_A.62.pdb', '1IKN_A.62.dssp')\n"
     ]
    },
    {
     "name": "stderr",
     "output_type": "stream",
     "text": [
      "truncated chain!1IKN_A.62.dssp\n"
     ]
    },
    {
     "name": "stdout",
     "output_type": "stream",
     "text": [
      "('3GUT_G.62.pdb', '3GUT_G.62.dssp')\n",
      "('3GUT_E.81.pdb', '3GUT_E.81.dssp')\n",
      "('3GUT_C.78.pdb', '3GUT_C.78.dssp')\n",
      "('3GUT_A.16.pdb', '3GUT_A.16.dssp')\n",
      "('1VKX_A.60.pdb', '1VKX_A.60.dssp')\n",
      "('1LEI_A.98.pdb', '1LEI_A.98.dssp')\n",
      "('1LE9_E.90.pdb', '1LE9_E.90.dssp')\n",
      "('1LE9_A.51.pdb', '1LE9_A.51.dssp')\n",
      "('2I9T_A.9.pdb', '2I9T_A.9.dssp')\n",
      "('1RAM_B.48.pdb', '1RAM_B.48.dssp')\n",
      "('1RAM_A.54.pdb', '1RAM_A.54.dssp')\n",
      "('2RAM_B.1.pdb', '2RAM_B.1.dssp')\n",
      "('2RAM_A.32.pdb', '2RAM_A.32.dssp')\n",
      "('1NFI_A.95.pdb', '1NFI_A.95.dssp')\n",
      "('1NFI_C.86.pdb', '1NFI_C.86.dssp')\n",
      "('1BVO_A.58.pdb', '1BVO_A.58.dssp')\n",
      "('2V2T_A.32.pdb', '2V2T_A.32.dssp')\n",
      "('3DO7_A.52.pdb', '3DO7_A.52.dssp')\n",
      "('1MDK_B.97.pdb', '1MDK_B.97.dssp')\n",
      "('1MDJ_B.0.pdb', '1MDJ_B.0.dssp')\n",
      "('1MDI_B.57.pdb', '1MDI_B.57.dssp')\n",
      "('2CT0_A.22.pdb', '2CT0_A.22.dssp')\n"
     ]
    }
   ],
   "source": [
    "ChainA = protein.get_chain_by_id(\"A\")\n",
    "tempMatch = \"<<<<<<<<\" + ChainA.protein_sequence + \">>>>>>>>\"\n",
    "search = r'.{4}' + ChainA.archs[1].aminoacid_sequence + r'.{4}'\n",
    "blastSearch = re.findall(search, tempMatch)[0].strip(\"<>\")\n",
    "tempblastresults = blast.execute_query_seq(sequenceID = ChainA.archs[1].identifier, sequence = blastSearch)\n",
    "Rholist = []\n",
    "Deltalist = []\n",
    "Thetalist = []\n",
    "identities = []\n",
    "for hit in tempblastresults.get_hits():\n",
    "\tid,chain = hit.sequenceID.split(\"_\")\n",
    "\tpath = new.get_PDB(id)\n",
    "\tproteinmatch = PDB(path)\n",
    "\tChainB = proteinmatch.get_chain_by_id(chain)\n",
    "\tChainB.calculate_dssp()\n",
    "\tChainB.calculate_archs()\n",
    "\tfor x in ChainB.archs:\n",
    "\t\tif x.aminoacid_sequence in hit.hit_seq:\n",
    "\t\t\tRho = math.sqrt((ChainA.archs[1].rho - x.rho)**2)\n",
    "\t\t\tDelta = math.sqrt((ChainA.archs[1].delta - x.delta)**2)\n",
    "\t\t\tTheta = math.sqrt((ChainA.archs[1].theta - x.theta)**2)\n",
    "\t\t\tDistance = math.sqrt((ChainA.archs[1].cartesian_distance - x.cartesian_distance)**2)\n",
    "\t\t\tRholist.append(Rho)\n",
    "\t\t\tDeltalist.append(Delta)\n",
    "\t\t\tThetalist.append(Theta)\n",
    "\t\t\tidentities.append(hit.identities_pec)"
   ]
  },
  {
   "cell_type": "markdown",
   "id": "809b945b",
   "metadata": {},
   "source": [
    "#### Plotting results"
   ]
  },
  {
   "cell_type": "code",
   "execution_count": 7,
   "id": "7ddf1e84",
   "metadata": {},
   "outputs": [],
   "source": [
    "import numpy as np\n",
    "import matplotlib.pyplot as plt\n",
    "from mpl_toolkits.mplot3d import Axes3D"
   ]
  },
  {
   "cell_type": "code",
   "execution_count": 10,
   "id": "9ef24bf3",
   "metadata": {},
   "outputs": [
    {
     "data": {
      "image/png": "[encoded data removed]",
      "text/plain": [
       "<Figure size 432x288 with 2 Axes>"
      ]
     },
     "metadata": {
      "needs_background": "light"
     },
     "output_type": "display_data"
    }
   ],
   "source": [
    "fig, ax = plt.subplots(subplot_kw=dict(projection=\"3d\"))\n",
    "c = identities\n",
    "sc = ax.scatter(Rholist,Deltalist,Thetalist, alpha=0.4, c=c, cmap='rainbow', s=20)\n",
    "\n",
    "ax.set_xlabel('Rho diff')\n",
    "ax.set_ylabel('Delta diff')\n",
    "ax.set_zlabel('Theta diff')\n",
    "plt.yticks(fontsize=8)\n",
    "plt.xticks(fontsize=8)\n",
    "\n",
    "cbar = plt.colorbar(sc, pad=0.2)\n",
    "cbar.set_label('id %', rotation=270)\n",
    "plt.title(\"1A3Q_A_19 loop geometry to BLAST hit comparison\",fontsize=11)\n",
    "plt.show()"
   ]
  },
  {
   "cell_type": "markdown",
   "id": "e076186d",
   "metadata": {},
   "source": [
    "#### Repeat, but this time with an alpha helix-helix 310 from 5KRB"
   ]
  },
  {
   "cell_type": "code",
   "execution_count": 27,
   "id": "6700d1c7",
   "metadata": {},
   "outputs": [
    {
     "name": "stdout",
     "output_type": "stream",
     "text": [
      "('5KRB_B.32.pdb', '5KRB_B.32.dssp')\n",
      "('1DSZ_A.65.pdb', '1DSZ_A.65.dssp')\n",
      "('1HRA_A.89.pdb', '1HRA_A.89.dssp')\n",
      "('4CN3_D.9.pdb', '4CN3_D.9.dssp')\n",
      "('4NQA_A.31.pdb', '4NQA_A.31.dssp')\n"
     ]
    },
    {
     "name": "stderr",
     "output_type": "stream",
     "text": [
      "truncated chain!4NQA_A.31.dssp\n",
      "truncated chain!4NQA_A.31.dssp\n"
     ]
    },
    {
     "name": "stdout",
     "output_type": "stream",
     "text": [
      "('4NQA_H.36.pdb', '4NQA_H.36.dssp')\n"
     ]
    },
    {
     "name": "stderr",
     "output_type": "stream",
     "text": [
      "truncated chain!4NQA_H.36.dssp\n"
     ]
    },
    {
     "name": "stdout",
     "output_type": "stream",
     "text": [
      "('4UMM_A.53.pdb', '4UMM_A.53.dssp')\n",
      "('1R0O_A.80.pdb', '1R0O_A.80.dssp')\n",
      "('3DZU_A.56.pdb', '3DZU_A.56.dssp')\n"
     ]
    },
    {
     "name": "stderr",
     "output_type": "stream",
     "text": [
      "truncated chain!3DZU_A.56.dssp\n",
      "truncated chain!3DZU_A.56.dssp\n"
     ]
    },
    {
     "name": "stdout",
     "output_type": "stream",
     "text": [
      "('2HAN_A.35.pdb', '2HAN_A.35.dssp')\n",
      "('3E00_A.67.pdb', '3E00_A.67.dssp')\n"
     ]
    },
    {
     "name": "stderr",
     "output_type": "stream",
     "text": [
      "truncated chain!3E00_A.67.dssp\n",
      "truncated chain!3E00_A.67.dssp\n"
     ]
    },
    {
     "name": "stdout",
     "output_type": "stream",
     "text": [
      "('3DZY_A.85.pdb', '3DZY_A.85.dssp')\n"
     ]
    },
    {
     "name": "stderr",
     "output_type": "stream",
     "text": [
      "truncated chain!3DZY_A.85.dssp\n"
     ]
    },
    {
     "name": "stdout",
     "output_type": "stream",
     "text": [
      "('1R0N_A.0.pdb', '1R0N_A.0.dssp')\n",
      "('4CN3_B.39.pdb', '4CN3_B.39.dssp')\n",
      "('1RXR_A.91.pdb', '1RXR_A.91.dssp')\n",
      "('4CN3_A.1.pdb', '4CN3_A.1.dssp')\n",
      "('4CN7_E.52.pdb', '4CN7_E.52.dssp')\n",
      "('4CN7_A.95.pdb', '4CN7_A.95.dssp')\n",
      "('4CN5_A.45.pdb', '4CN5_A.45.dssp')\n",
      "('4CN3_C.100.pdb', '4CN3_C.100.dssp')\n",
      "('1BY4_D.1.pdb', '1BY4_D.1.dssp')\n",
      "('1BY4_A.5.pdb', '1BY4_A.5.dssp')\n",
      "('4CN7_F.75.pdb', '4CN7_F.75.dssp')\n",
      "('4CN2_C.57.pdb', '4CN2_C.57.dssp')\n",
      "('4CN7_B.52.pdb', '4CN7_B.52.dssp')\n",
      "('2NLL_A.83.pdb', '2NLL_A.83.dssp')\n",
      "('1YNW_B.61.pdb', '1YNW_B.61.dssp')\n",
      "('1BY4_C.25.pdb', '1BY4_C.25.dssp')\n",
      "('1BY4_B.42.pdb', '1BY4_B.42.dssp')\n",
      "('1DSZ_B.12.pdb', '1DSZ_B.12.dssp')\n",
      "('4CN2_D.9.pdb', '4CN2_D.9.dssp')\n",
      "('4CN5_B.99.pdb', '4CN5_B.99.dssp')\n"
     ]
    },
    {
     "name": "stderr",
     "output_type": "stream",
     "text": [
      "truncated chain!4CN5_B.99.dssp\n"
     ]
    },
    {
     "name": "stdout",
     "output_type": "stream",
     "text": [
      "('3DZY_D.79.pdb', '3DZY_D.79.dssp')\n"
     ]
    },
    {
     "name": "stderr",
     "output_type": "stream",
     "text": [
      "truncated chain!3DZY_D.79.dssp\n"
     ]
    },
    {
     "name": "stdout",
     "output_type": "stream",
     "text": [
      "('3DZU_D.87.pdb', '3DZU_D.87.dssp')\n"
     ]
    },
    {
     "name": "stderr",
     "output_type": "stream",
     "text": [
      "truncated chain!3DZU_D.87.dssp\n"
     ]
    },
    {
     "name": "stdout",
     "output_type": "stream",
     "text": [
      "('3E00_D.46.pdb', '3E00_D.46.dssp')\n"
     ]
    },
    {
     "name": "stderr",
     "output_type": "stream",
     "text": [
      "truncated chain!3E00_D.46.dssp\n"
     ]
    },
    {
     "name": "stdout",
     "output_type": "stream",
     "text": [
      "('2A66_A.43.pdb', '2A66_A.43.dssp')\n",
      "('1CIT_A.38.pdb', '1CIT_A.38.dssp')\n",
      "('2FF0_A.83.pdb', '2FF0_A.83.dssp')\n",
      "('2EBL_A.93.pdb', '2EBL_A.93.dssp')\n",
      "('1GA5_E.16.pdb', '1GA5_E.16.dssp')\n",
      "('1HLZ_A.70.pdb', '1HLZ_A.70.dssp')\n",
      "('1GA5_A.95.pdb', '1GA5_A.95.dssp')\n",
      "('1GA5_F.6.pdb', '1GA5_F.6.dssp')\n",
      "('1A6Y_B.89.pdb', '1A6Y_B.89.dssp')\n",
      "('1GA5_B.11.pdb', '1GA5_B.11.dssp')\n",
      "('1A6Y_A.32.pdb', '1A6Y_A.32.dssp')\n",
      "('1HLZ_B.48.pdb', '1HLZ_B.48.dssp')\n",
      "('3CBB_A.48.pdb', '3CBB_A.48.dssp')\n",
      "('3CBB_B.64.pdb', '3CBB_B.64.dssp')\n",
      "('4IQR_A.97.pdb', '4IQR_A.97.dssp')\n"
     ]
    },
    {
     "name": "stderr",
     "output_type": "stream",
     "text": [
      "truncated chain!4IQR_A.97.dssp\n"
     ]
    },
    {
     "name": "stdout",
     "output_type": "stream",
     "text": [
      "('4IQR_E.64.pdb', '4IQR_E.64.dssp')\n"
     ]
    },
    {
     "name": "stderr",
     "output_type": "stream",
     "text": [
      "truncated chain!4IQR_E.64.dssp\n"
     ]
    },
    {
     "name": "stdout",
     "output_type": "stream",
     "text": [
      "('4IQR_B.77.pdb', '4IQR_B.77.dssp')\n"
     ]
    },
    {
     "name": "stderr",
     "output_type": "stream",
     "text": [
      "truncated chain!4IQR_B.77.dssp\n"
     ]
    },
    {
     "name": "stdout",
     "output_type": "stream",
     "text": [
      "('4IQR_F.40.pdb', '4IQR_F.40.dssp')\n"
     ]
    },
    {
     "name": "stderr",
     "output_type": "stream",
     "text": [
      "truncated chain!4IQR_F.40.dssp\n"
     ]
    },
    {
     "name": "stdout",
     "output_type": "stream",
     "text": [
      "('4OLN_B.83.pdb', '4OLN_B.83.dssp')\n"
     ]
    },
    {
     "name": "stderr",
     "output_type": "stream",
     "text": [
      "truncated chain!4OLN_B.83.dssp\n"
     ]
    },
    {
     "name": "stdout",
     "output_type": "stream",
     "text": [
      "('4OLN_A.90.pdb', '4OLN_A.90.dssp')\n"
     ]
    },
    {
     "name": "stderr",
     "output_type": "stream",
     "text": [
      "truncated chain!4OLN_A.90.dssp\n"
     ]
    },
    {
     "name": "stdout",
     "output_type": "stream",
     "text": [
      "('1YNW_A.74.pdb', '1YNW_A.74.dssp')\n",
      "('1R0O_B.54.pdb', '1R0O_B.54.dssp')\n",
      "('4UMM_E.96.pdb', '4UMM_E.96.dssp')\n",
      "('1HCQ_B.45.pdb', '1HCQ_B.45.dssp')\n",
      "('4AA6_B.75.pdb', '4AA6_B.75.dssp')\n"
     ]
    },
    {
     "name": "stderr",
     "output_type": "stream",
     "text": [
      "truncated chain!4AA6_B.75.dssp\n"
     ]
    },
    {
     "name": "stdout",
     "output_type": "stream",
     "text": [
      "('1HCQ_E.70.pdb', '1HCQ_E.70.dssp')\n"
     ]
    },
    {
     "name": "stderr",
     "output_type": "stream",
     "text": [
      "truncated chain!1HCQ_E.70.dssp\n"
     ]
    },
    {
     "name": "stdout",
     "output_type": "stream",
     "text": [
      "('1HCQ_A.54.pdb', '1HCQ_A.54.dssp')\n",
      "('1HCP_A.46.pdb', '1HCP_A.46.dssp')\n",
      "('2HAN_B.84.pdb', '2HAN_B.84.dssp')\n",
      "('1R0N_B.22.pdb', '1R0N_B.22.dssp')\n",
      "('1KB2_B.10.pdb', '1KB2_B.10.dssp')\n",
      "('4AA6_F.3.pdb', '4AA6_F.3.dssp')\n"
     ]
    },
    {
     "name": "stderr",
     "output_type": "stream",
     "text": [
      "truncated chain!4AA6_F.3.dssp\n"
     ]
    },
    {
     "name": "stdout",
     "output_type": "stream",
     "text": [
      "('1KB2_A.95.pdb', '1KB2_A.95.dssp')\n",
      "('1KB4_B.74.pdb', '1KB4_B.74.dssp')\n",
      "('1KB6_A.89.pdb', '1KB6_A.89.dssp')\n",
      "('1HCQ_F.95.pdb', '1HCQ_F.95.dssp')\n"
     ]
    },
    {
     "name": "stderr",
     "output_type": "stream",
     "text": [
      "truncated chain!1HCQ_F.95.dssp\n"
     ]
    },
    {
     "name": "stdout",
     "output_type": "stream",
     "text": [
      "('1KB6_B.12.pdb', '1KB6_B.12.dssp')\n",
      "('1KB4_A.74.pdb', '1KB4_A.74.dssp')\n",
      "('4AA6_A.40.pdb', '4AA6_A.40.dssp')\n"
     ]
    },
    {
     "name": "stderr",
     "output_type": "stream",
     "text": [
      "truncated chain!4AA6_A.40.dssp\n"
     ]
    },
    {
     "name": "stdout",
     "output_type": "stream",
     "text": [
      "('4AA6_E.11.pdb', '4AA6_E.11.dssp')\n"
     ]
    },
    {
     "name": "stderr",
     "output_type": "stream",
     "text": [
      "truncated chain!4AA6_E.11.dssp\n"
     ]
    },
    {
     "name": "stdout",
     "output_type": "stream",
     "text": [
      "('4NQA_I.79.pdb', '4NQA_I.79.dssp')\n",
      "('2ENV_A.29.pdb', '2ENV_A.29.dssp')\n",
      "('4NQA_B.12.pdb', '4NQA_B.12.dssp')\n"
     ]
    },
    {
     "name": "stderr",
     "output_type": "stream",
     "text": [
      "truncated chain!4NQA_B.12.dssp\n"
     ]
    },
    {
     "name": "stdout",
     "output_type": "stream",
     "text": [
      "('3M9E_A.21.pdb', '3M9E_A.21.dssp')\n",
      "('3M9E_B.66.pdb', '3M9E_B.66.dssp')\n",
      "('4OND_B.62.pdb', '4OND_B.62.dssp')\n",
      "('4OND_F.79.pdb', '4OND_F.79.dssp')\n",
      "('4OND_E.75.pdb', '4OND_E.75.dssp')\n",
      "('3M9E_E.76.pdb', '3M9E_E.76.dssp')\n",
      "('4OND_A.14.pdb', '4OND_A.14.dssp')\n",
      "('2NLL_B.94.pdb', '2NLL_B.94.dssp')\n",
      "('3M9E_F.27.pdb', '3M9E_F.27.dssp')\n",
      "('1LAT_A.94.pdb', '1LAT_A.94.dssp')\n",
      "('1LAT_B.55.pdb', '1LAT_B.55.dssp')\n",
      "('1LO1_A.62.pdb', '1LO1_A.62.dssp')\n",
      "('4HN6_B.7.pdb', '4HN6_B.7.dssp')\n",
      "('4HN6_A.13.pdb', '4HN6_A.13.dssp')\n",
      "('4TNT_B.12.pdb', '4TNT_B.12.dssp')\n",
      "('4TNT_A.33.pdb', '4TNT_A.33.dssp')\n",
      "('4OOR_E.53.pdb', '4OOR_E.53.dssp')\n",
      "('4OV7_E.73.pdb', '4OV7_E.73.dssp')\n",
      "('4OOR_A.58.pdb', '4OOR_A.58.dssp')\n",
      "('4OV7_A.60.pdb', '4OV7_A.60.dssp')\n",
      "('4OOR_B.20.pdb', '4OOR_B.20.dssp')\n",
      "('4OV7_B.91.pdb', '4OV7_B.91.dssp')\n",
      "('4HN5_B.17.pdb', '4HN5_B.17.dssp')\n",
      "('3G97_B.8.pdb', '3G97_B.8.dssp')\n",
      "('4HN5_A.94.pdb', '4HN5_A.94.dssp')\n",
      "('2GDA_A.85.pdb', '2GDA_A.85.dssp')\n",
      "('1GDC_A.52.pdb', '1GDC_A.52.dssp')\n",
      "('3G99_B.27.pdb', '3G99_B.27.dssp')\n",
      "('3G97_A.17.pdb', '3G97_A.17.dssp')\n",
      "('3G8U_B.4.pdb', '3G8U_B.4.dssp')\n",
      "('3G9P_A.91.pdb', '3G9P_A.91.dssp')\n",
      "('3G9P_B.4.pdb', '3G9P_B.4.dssp')\n",
      "('3G9O_A.45.pdb', '3G9O_A.45.dssp')\n",
      "('3G9O_B.24.pdb', '3G9O_B.24.dssp')\n",
      "('1RGD_A.35.pdb', '1RGD_A.35.dssp')\n",
      "('1R4R_B.88.pdb', '1R4R_B.88.dssp')\n",
      "('3G6U_B.66.pdb', '3G6U_B.66.dssp')\n",
      "('3FYL_B.68.pdb', '3FYL_B.68.dssp')\n",
      "('3G6P_A.60.pdb', '3G6P_A.60.dssp')\n",
      "('3G6R_B.74.pdb', '3G6R_B.74.dssp')\n",
      "('3G6Q_B.68.pdb', '3G6Q_B.68.dssp')\n",
      "('3FYL_A.27.pdb', '3FYL_A.27.dssp')\n",
      "('3G9J_A.81.pdb', '3G9J_A.81.dssp')\n",
      "('1R4R_A.12.pdb', '1R4R_A.12.dssp')\n",
      "('3G8X_A.28.pdb', '3G8X_A.28.dssp')\n",
      "('3G8X_B.57.pdb', '3G8X_B.57.dssp')\n",
      "('1R4O_B.53.pdb', '1R4O_B.53.dssp')\n",
      "('1R4O_A.45.pdb', '1R4O_A.45.dssp')\n",
      "('3G6U_A.21.pdb', '3G6U_A.21.dssp')\n",
      "('3G9M_A.18.pdb', '3G9M_A.18.dssp')\n",
      "('1GLU_B.28.pdb', '1GLU_B.28.dssp')\n",
      "('1GLU_A.51.pdb', '1GLU_A.51.dssp')\n",
      "('3G6R_A.49.pdb', '3G6R_A.49.dssp')\n",
      "('3G99_A.10.pdb', '3G99_A.10.dssp')\n",
      "('3G9J_B.75.pdb', '3G9J_B.75.dssp')\n",
      "('3G9I_A.74.pdb', '3G9I_A.74.dssp')\n",
      "('3G8U_A.46.pdb', '3G8U_A.46.dssp')\n",
      "('3G6Q_A.20.pdb', '3G6Q_A.20.dssp')\n",
      "('3G9M_B.80.pdb', '3G9M_B.80.dssp')\n",
      "('3G6P_B.82.pdb', '3G6P_B.82.dssp')\n",
      "('3G9I_B.5.pdb', '3G9I_B.5.dssp')\n",
      "('4OOR_F.41.pdb', '4OOR_F.41.dssp')\n"
     ]
    },
    {
     "name": "stderr",
     "output_type": "stream",
     "text": [
      "truncated chain!4OOR_F.41.dssp\n"
     ]
    },
    {
     "name": "stdout",
     "output_type": "stream",
     "text": [
      "('4OV7_F.17.pdb', '4OV7_F.17.dssp')\n"
     ]
    },
    {
     "name": "stderr",
     "output_type": "stream",
     "text": [
      "truncated chain!4OV7_F.17.dssp\n"
     ]
    },
    {
     "name": "stdout",
     "output_type": "stream",
     "text": [
      "('2C7A_A.84.pdb', '2C7A_A.84.dssp')\n",
      "('2C7A_B.10.pdb', '2C7A_B.10.dssp')\n",
      "('1R4I_A.70.pdb', '1R4I_A.70.dssp')\n",
      "('1R4I_B.93.pdb', '1R4I_B.93.dssp')\n",
      "('3G6T_B.37.pdb', '3G6T_B.37.dssp')\n",
      "('3G6T_A.4.pdb', '3G6T_A.4.dssp')\n"
     ]
    }
   ],
   "source": [
    "path = new.get_PDB(\"5KRB\")\n",
    "proteinmatch = PDB(path)\n",
    "Chain1 = proteinmatch.get_chain_by_id(\"B\")\n",
    "Chain1.calculate_dssp()\n",
    "Chain1.calculate_archs()\n",
    "sequence = Chain1.protein_sequence\n",
    "blastresults = blast.execute_query_seq(sequenceID = \"5KRB_B\", sequence = sequence)\n",
    "\n",
    "\n",
    "\n",
    "\n",
    "tempMatch = \"<<<<<<<<\" + Chain1.protein_sequence + \">>>>>>>>\"\n",
    "search = r'.{4}' + Chain1.archs[2].aminoacid_sequence + r'.{4}'\n",
    "blastSearch = re.findall(search, tempMatch)[0].strip(\"<>\")\n",
    "tempblastresults = blast.execute_query_seq(sequenceID = Chain1.archs[2].identifier, sequence = blastSearch)\n",
    "Rholist = []\n",
    "Deltalist = []\n",
    "Thetalist = []\n",
    "identities = []\n",
    "for hit in tempblastresults.get_hits():\n",
    "\tid,chain = hit.sequenceID.split(\"_\")\n",
    "\tpath = new.get_PDB(id)\n",
    "\tproteinmatch = PDB(path)\n",
    "\tChain2 = proteinmatch.get_chain_by_id(chain)\n",
    "\tChain2.calculate_dssp()\n",
    "\tChain2.calculate_archs()\n",
    "\tfor x in Chain2.archs:\n",
    "\t\tif x.aminoacid_sequence in hit.hit_seq:\n",
    "\t\t\tRho = math.sqrt((Chain1.archs[2].rho - x.rho)**2)\n",
    "\t\t\tDelta = math.sqrt((Chain1.archs[2].delta - x.delta)**2)\n",
    "\t\t\tTheta = math.sqrt((Chain1.archs[2].theta - x.theta)**2)\n",
    "\t\t\tDistance = math.sqrt((Chain1.archs[2].cartesian_distance - x.cartesian_distance)**2)\n",
    "\t\t\tRholist.append(Rho)\n",
    "\t\t\tDeltalist.append(Delta)\n",
    "\t\t\tThetalist.append(Theta)\n",
    "\t\t\tidentities.append(hit.identities_pec)\n"
   ]
  },
  {
   "cell_type": "markdown",
   "id": "f64e0abd",
   "metadata": {},
   "source": [
    "#### Plotting results"
   ]
  },
  {
   "cell_type": "code",
   "execution_count": 28,
   "id": "2d6f9dc6",
   "metadata": {},
   "outputs": [
    {
     "data": {
      "image/png": "[encoded data removed]",
      "text/plain": [
       "<Figure size 432x288 with 2 Axes>"
      ]
     },
     "metadata": {
      "needs_background": "light"
     },
     "output_type": "display_data"
    }
   ],
   "source": [
    "fig, ax = plt.subplots(subplot_kw=dict(projection=\"3d\"))\n",
    "c = identities\n",
    "sc = ax.scatter(Rholist,Deltalist,Thetalist, alpha=0.4, c=c, cmap='rainbow', s=20)\n",
    "\n",
    "ax.set_xlabel('Rho diff')\n",
    "ax.set_ylabel('Delta diff')\n",
    "ax.set_zlabel('Theta diff')\n",
    "plt.yticks(fontsize=8)\n",
    "plt.xticks(fontsize=8)\n",
    "\n",
    "cbar = plt.colorbar(sc, pad=0.2)\n",
    "cbar.set_label('id %', rotation=270)\n",
    "plt.title(\"5KRB_B_93 loop geometry to BLAST hit comparison\",fontsize=11)\n",
    "plt.show()"
   ]
  },
  {
   "cell_type": "markdown",
   "id": "9acc6901",
   "metadata": {},
   "source": [
    "## 5) Find the residues in an interface"
   ]
  },
  {
   "cell_type": "code",
   "execution_count": 29,
   "id": "4f7155dc",
   "metadata": {},
   "outputs": [
    {
     "name": "stdout",
     "output_type": "stream",
     "text": [
      "234 ASP\n",
      "251 ASP\n",
      "231 SER\n",
      "252 LYS\n",
      "286 ALA\n",
      "249 LEU\n",
      "287 ILE\n",
      "247 TYR\n",
      "288 VAL\n",
      "232 ARG\n",
      "283 LYS\n",
      "248 LEU\n",
      "284 GLN\n",
      "229 LYS\n",
      "230 ILE\n",
      "233 MET\n",
      "285 TYR\n",
      "57 CYS\n",
      "245 GLU\n",
      "250 CYS\n",
      "282 HIS\n",
      "281 VAL\n",
      "235 LYS\n",
      "246 VAL\n",
      "253 VAL\n",
      "276 PHE\n",
      "248 LEU\n",
      "282 HIS\n",
      "247 TYR\n",
      "284 GLN\n",
      "286 ALA\n",
      "279 THR\n",
      "287 ILE\n",
      "281 VAL\n",
      "285 TYR\n",
      "288 VAL\n",
      "283 LYS\n",
      "249 LEU\n",
      "245 GLU\n",
      "144 LYS\n",
      "235 LYS\n",
      "280 ASP\n",
      "246 VAL\n",
      "234 ASP\n",
      "232 ARG\n"
     ]
    }
   ],
   "source": [
    "protein = PDB(\"pdb1a3q.ent.gz\")\n",
    "complex = Complex(protein)\n",
    "##### Here I am getting the amount of interfaces that were detected\n",
    "len(complex.PPInterfaces)\n",
    "##### This is the interface on the first chain in the interaction\n",
    "for residue in complex.PPInterfaces[0]._view_interface_from(1):\n",
    "\tprint(str(residue.number) + \" \" + residue._type)\n",
    "##### This is the interface on the second chain in the interaction\n",
    "for residue in complex.PPInterfaces[0]._view_interface_from(2):\n",
    "\tprint(str(residue.number) + \" \" + residue._type)\n",
    "##### The above prints out the name and number of each residue if you want to get the actual residue object itself you simply call residue. "
   ]
  },
  {
   "cell_type": "markdown",
   "id": "2cafb3e9",
   "metadata": {},
   "source": [
    "## 6) Interface summary statistics"
   ]
  },
  {
   "cell_type": "code",
   "execution_count": 30,
   "id": "a48eef53",
   "metadata": {},
   "outputs": [
    {
     "name": "stdout",
     "output_type": "stream",
     "text": [
      "Contact residue hydrophobicity is:\n",
      "Chain1:0.39% Chain2:0.41% \n",
      "('1A3Q_A.59.pdb', '1A3Q_A.59.dssp')\n",
      "('1A3Q_B.4.pdb', '1A3Q_B.4.dssp')\n",
      "Contact residue exposure is:\n",
      "Chain1:0.94% Chain2:0.93% \n"
     ]
    },
    {
     "name": "stderr",
     "output_type": "stream",
     "text": [
      "truncated chain!1A3Q_A.59.dssp\n",
      "truncated chain!1A3Q_B.4.dssp\n"
     ]
    }
   ],
   "source": [
    "## Finding the percentage of contact residues that are hydrophobic\n",
    "\n",
    "# Define hydrophobic Amino Acids\n",
    "hydrophobic = ['PHE', 'LEU', 'ILE', 'TYR', 'TRP', 'VAL', 'MET', 'PRO']\n",
    "i = 0\n",
    "x = 0\n",
    "for contact in complex.PPInterfaces[0].contacts:\n",
    "\tif contact.aminoacid1.standard_type in hydrophobic:\n",
    "\t\ti+=1\n",
    "\tif contact.aminoacid2.standard_type in hydrophobic:\n",
    "\t\tx+=1\n",
    "print(\"Contact residue hydrophobicity is:\\nChain1:{0}% Chain2:{1}% \".format(i/len(complex.PPInterfaces[0].contacts),x/len(complex.PPInterfaces[0].contacts)))\n",
    "\n",
    "\n",
    "## Percentage of contact residues that are exposed\n",
    "\n",
    "# First the dssp for both chains in the complex interface must be calculated\n",
    "complex.pdb.get_chain_by_id(\"A\").calculate_dssp()\n",
    "complex.pdb.get_chain_by_id(\"B\").calculate_dssp()\n",
    "i = 0\n",
    "x = 0\n",
    "for contact in complex.PPInterfaces[0].contacts:\n",
    "\tif contact.aminoacid1.accessibility:\n",
    "\t\ti+=1\n",
    "\tif contact.aminoacid2.accessibility:\n",
    "\t\tx+=1\n",
    "print(\"Contact residue exposure is:\\nChain1:{0}% Chain2:{1}% \".format(i/len(complex.PPInterfaces[0].contacts),x/len(complex.PPInterfaces[0].contacts)))\n"
   ]
  },
  {
   "cell_type": "markdown",
   "id": "97c3af9f",
   "metadata": {},
   "source": [
    "## 7) Read in an mmcif file and blast getting results that pass the rost curve "
   ]
  },
  {
   "cell_type": "code",
   "execution_count": 37,
   "id": "de2adbd7",
   "metadata": {},
   "outputs": [
    {
     "name": "stdout",
     "output_type": "stream",
     "text": [
      "1A3Q_B   True\n",
      "3DO7_B   True\n",
      "1LE5_F   True\n",
      "1LE5_B   True\n",
      "3GUT_H   True\n",
      "3GUT_F   True\n",
      "3GUT_D   True\n",
      "3GUT_B   True\n",
      "1VKX_B   True\n",
      "2I9T_B   True\n",
      "1NFK_B   True\n",
      "1NFK_A   True\n",
      "1LEI_B   True\n",
      "1LE9_F   True\n",
      "1LE9_B   True\n",
      "1OOA_B   True\n",
      "1OOA_A   True\n",
      "2V2T_B   True\n",
      "2O61_B   True\n",
      "1SVC_P   True\n",
      "1GJI_B   True\n",
      "1GJI_A   True\n",
      "3JV6_D   True\n",
      "3JV6_F   True\n",
      "3JV5_A   True\n",
      "3JV6_B   True\n",
      "2I9T_A   True\n",
      "1RAM_B   True\n",
      "1RAM_A   True\n",
      "2RAM_B   True\n",
      "2RAM_A   True\n",
      "3JV5_B   True\n",
      "3JV5_D   True\n",
      "3GUT_G   True\n",
      "3GUT_E   True\n",
      "3GUT_C   True\n",
      "3GUT_A   True\n",
      "1VKX_A   True\n",
      "1LEI_A   True\n",
      "1LE9_E   True\n",
      "1LE9_A   True\n",
      "1LE5_E   True\n",
      "1LE5_A   True\n",
      "3JV5_C   True\n",
      "1NFI_A   True\n",
      "1NFI_C   True\n",
      "1IKN_A   True\n",
      "2O61_A   True\n",
      "2V2T_A   True\n",
      "3DO7_A   True\n",
      "1BFS_A   True\n",
      "1IKN_C   True\n",
      "3JV4_F   True\n",
      "3JV4_D   True\n",
      "3JV4_B   True\n",
      "1NFI_D   True\n",
      "1NFI_B   True\n",
      "1U41_A   True\n",
      "1U3Z_A   True\n",
      "1U41_D   True\n",
      "1U41_B   True\n",
      "1U36_A   True\n",
      "1U42_A   True\n",
      "1U3J_A   True\n",
      "1U3Y_A   True\n",
      "1U41_C   True\n",
      "3JV0_A   True\n",
      "3JUZ_A   True\n",
      "3JSS_A   True\n",
      "1BFT_B   True\n",
      "1BFT_A   True\n",
      "1MY5_B   True\n",
      "1MY5_A   True\n",
      "1OY3_B   True\n",
      "1MY7_B   True\n",
      "1K3Z_B   True\n",
      "1MY7_A   True\n",
      "1OY3_C   True\n",
      "1K3Z_A   True\n",
      "1BVO_A   True\n",
      "4JHB_A   True\n",
      "3JV6_E   True\n",
      "3JV6_C   True\n",
      "3JV6_A   True\n",
      "3JV4_E   True\n",
      "3JV4_C   True\n",
      "3JV4_A   True\n",
      "1ZK9_A   True\n",
      "4JGM_A   True\n",
      "1ZKA_A   True\n",
      "1IMH_D   True\n",
      "1IMH_C   True\n",
      "2YRP_A   True\n"
     ]
    }
   ],
   "source": [
    "protein = PDB(cif_file = \"1a3q.cif.gz\")\n",
    "ChainA = protein.get_chain_by_id(\"A\")\n",
    "sequence = ChainA.protein_sequence\n",
    "blastresults = blast.execute_query_seq(sequenceID = \"1A3Q_A\", sequence = sequence)\n",
    "for hit in blastresults.get_hits(tz_type = \"ID\"):\n",
    "\tprint(hit.sequenceID, \" \", hit.evaluate_Rost_twilight_zone() )"
   ]
  }
 ],
 "metadata": {
  "kernelspec": {
   "display_name": "Python 3 (ipykernel)",
   "language": "python",
   "name": "python3"
  },
  "language_info": {
   "codemirror_mode": {
    "name": "ipython",
    "version": 3
   },
   "file_extension": ".py",
   "mimetype": "text/x-python",
   "name": "python",
   "nbconvert_exporter": "python",
   "pygments_lexer": "ipython3",
   "version": "3.8.6"
  }
 },
 "nbformat": 4,
 "nbformat_minor": 5
}
